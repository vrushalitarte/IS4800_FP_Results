{
 "cells": [
  {
   "cell_type": "code",
   "execution_count": 5,
   "id": "e6ffb126",
   "metadata": {},
   "outputs": [],
   "source": [
    "import pandas as pd \n",
    "import altair as alt\n",
    "import scipy.stats\n",
    "import matplotlib.pyplot as plt\n",
    "import pingouin as pg"
   ]
  },
  {
   "cell_type": "code",
   "execution_count": 6,
   "id": "b293fdc9",
   "metadata": {},
   "outputs": [],
   "source": [
    "data = pd.read_csv(\"SurveyData.csv\")"
   ]
  },
  {
   "cell_type": "code",
   "execution_count": 7,
   "id": "32812448",
   "metadata": {},
   "outputs": [
    {
     "data": {
      "text/html": [
       "<div>\n",
       "<style scoped>\n",
       "    .dataframe tbody tr th:only-of-type {\n",
       "        vertical-align: middle;\n",
       "    }\n",
       "\n",
       "    .dataframe tbody tr th {\n",
       "        vertical-align: top;\n",
       "    }\n",
       "\n",
       "    .dataframe thead th {\n",
       "        text-align: right;\n",
       "    }\n",
       "</style>\n",
       "<table border=\"1\" class=\"dataframe\">\n",
       "  <thead>\n",
       "    <tr style=\"text-align: right;\">\n",
       "      <th></th>\n",
       "      <th>Experimenter</th>\n",
       "      <th>PID</th>\n",
       "      <th>Interface</th>\n",
       "      <th>Rank Placement of Create and Marketplace Button Based on Where Expected</th>\n",
       "      <th>Often Intend to Click Certain Button and Get Unexpected Results</th>\n",
       "      <th>Rank Use on Instagram in Terms of Frequency - Explore Page</th>\n",
       "      <th>Rank Use on Instagram in Terms of Frequency - Feed</th>\n",
       "      <th>Rank Use on Instagram in Terms of Frequency - Marketplace</th>\n",
       "      <th>Rank Use on Instagram in Terms of Frequency - Messaging</th>\n",
       "      <th>Rank Use on Instagram in Terms of Frequency - Create content (post images/stories/reels)</th>\n",
       "      <th>Rank Use on Instagram in Terms of Frequency - Stories</th>\n",
       "      <th>Intentionally Used the Instagram Create Button Before</th>\n",
       "      <th>Intentionally Used the Instagram Marketplace Button Before</th>\n",
       "      <th>Rank Likelihood of Purchasing an Item from Instagram marketplace</th>\n",
       "      <th>Hours Spent on Instagram Daily</th>\n",
       "      <th>Age</th>\n",
       "      <th>Gender</th>\n",
       "    </tr>\n",
       "  </thead>\n",
       "  <tbody>\n",
       "    <tr>\n",
       "      <th>0</th>\n",
       "      <td>Team</td>\n",
       "      <td>1</td>\n",
       "      <td>2</td>\n",
       "      <td>2</td>\n",
       "      <td>No</td>\n",
       "      <td>2</td>\n",
       "      <td>1</td>\n",
       "      <td>6</td>\n",
       "      <td>3</td>\n",
       "      <td>5</td>\n",
       "      <td>4</td>\n",
       "      <td>Yes</td>\n",
       "      <td>No</td>\n",
       "      <td>0</td>\n",
       "      <td>1-3 hrs</td>\n",
       "      <td>21</td>\n",
       "      <td>Male</td>\n",
       "    </tr>\n",
       "    <tr>\n",
       "      <th>1</th>\n",
       "      <td>Team</td>\n",
       "      <td>2</td>\n",
       "      <td>2</td>\n",
       "      <td>3</td>\n",
       "      <td>Yes</td>\n",
       "      <td>4</td>\n",
       "      <td>1</td>\n",
       "      <td>6</td>\n",
       "      <td>5</td>\n",
       "      <td>3</td>\n",
       "      <td>2</td>\n",
       "      <td>Yes</td>\n",
       "      <td>No</td>\n",
       "      <td>0</td>\n",
       "      <td>3-5 hrs</td>\n",
       "      <td>22</td>\n",
       "      <td>Female</td>\n",
       "    </tr>\n",
       "    <tr>\n",
       "      <th>2</th>\n",
       "      <td>Team</td>\n",
       "      <td>3</td>\n",
       "      <td>2</td>\n",
       "      <td>1</td>\n",
       "      <td>Yes</td>\n",
       "      <td>5</td>\n",
       "      <td>1</td>\n",
       "      <td>6</td>\n",
       "      <td>2</td>\n",
       "      <td>4</td>\n",
       "      <td>3</td>\n",
       "      <td>Yes</td>\n",
       "      <td>No</td>\n",
       "      <td>1</td>\n",
       "      <td>0-1 hr</td>\n",
       "      <td>22</td>\n",
       "      <td>Male</td>\n",
       "    </tr>\n",
       "    <tr>\n",
       "      <th>3</th>\n",
       "      <td>Team</td>\n",
       "      <td>4</td>\n",
       "      <td>2</td>\n",
       "      <td>2</td>\n",
       "      <td>No</td>\n",
       "      <td>4</td>\n",
       "      <td>5</td>\n",
       "      <td>6</td>\n",
       "      <td>2</td>\n",
       "      <td>3</td>\n",
       "      <td>1</td>\n",
       "      <td>No</td>\n",
       "      <td>No</td>\n",
       "      <td>0</td>\n",
       "      <td>0-1 hr</td>\n",
       "      <td>21</td>\n",
       "      <td>Male</td>\n",
       "    </tr>\n",
       "    <tr>\n",
       "      <th>4</th>\n",
       "      <td>Team</td>\n",
       "      <td>5</td>\n",
       "      <td>2</td>\n",
       "      <td>1</td>\n",
       "      <td>No</td>\n",
       "      <td>1</td>\n",
       "      <td>2</td>\n",
       "      <td>3</td>\n",
       "      <td>5</td>\n",
       "      <td>6</td>\n",
       "      <td>4</td>\n",
       "      <td>No</td>\n",
       "      <td>No</td>\n",
       "      <td>0</td>\n",
       "      <td>0-1 hr</td>\n",
       "      <td>21</td>\n",
       "      <td>Male</td>\n",
       "    </tr>\n",
       "  </tbody>\n",
       "</table>\n",
       "</div>"
      ],
      "text/plain": [
       "  Experimenter  PID  Interface  \\\n",
       "0         Team    1          2   \n",
       "1         Team    2          2   \n",
       "2         Team    3          2   \n",
       "3         Team    4          2   \n",
       "4         Team    5          2   \n",
       "\n",
       "   Rank Placement of Create and Marketplace Button Based on Where Expected  \\\n",
       "0                                                  2                         \n",
       "1                                                  3                         \n",
       "2                                                  1                         \n",
       "3                                                  2                         \n",
       "4                                                  1                         \n",
       "\n",
       "  Often Intend to Click Certain Button and Get Unexpected Results  \\\n",
       "0                                                 No                \n",
       "1                                                Yes                \n",
       "2                                                Yes                \n",
       "3                                                 No                \n",
       "4                                                 No                \n",
       "\n",
       "   Rank Use on Instagram in Terms of Frequency - Explore Page  \\\n",
       "0                                                  2            \n",
       "1                                                  4            \n",
       "2                                                  5            \n",
       "3                                                  4            \n",
       "4                                                  1            \n",
       "\n",
       "   Rank Use on Instagram in Terms of Frequency - Feed  \\\n",
       "0                                                  1    \n",
       "1                                                  1    \n",
       "2                                                  1    \n",
       "3                                                  5    \n",
       "4                                                  2    \n",
       "\n",
       "   Rank Use on Instagram in Terms of Frequency - Marketplace  \\\n",
       "0                                                  6           \n",
       "1                                                  6           \n",
       "2                                                  6           \n",
       "3                                                  6           \n",
       "4                                                  3           \n",
       "\n",
       "   Rank Use on Instagram in Terms of Frequency - Messaging  \\\n",
       "0                                                  3         \n",
       "1                                                  5         \n",
       "2                                                  2         \n",
       "3                                                  2         \n",
       "4                                                  5         \n",
       "\n",
       "   Rank Use on Instagram in Terms of Frequency - Create content (post images/stories/reels)  \\\n",
       "0                                                  5                                          \n",
       "1                                                  3                                          \n",
       "2                                                  4                                          \n",
       "3                                                  3                                          \n",
       "4                                                  6                                          \n",
       "\n",
       "   Rank Use on Instagram in Terms of Frequency - Stories  \\\n",
       "0                                                  4       \n",
       "1                                                  2       \n",
       "2                                                  3       \n",
       "3                                                  1       \n",
       "4                                                  4       \n",
       "\n",
       "  Intentionally Used the Instagram Create Button Before  \\\n",
       "0                                                Yes      \n",
       "1                                                Yes      \n",
       "2                                                Yes      \n",
       "3                                                 No      \n",
       "4                                                 No      \n",
       "\n",
       "  Intentionally Used the Instagram Marketplace Button Before  \\\n",
       "0                                                 No           \n",
       "1                                                 No           \n",
       "2                                                 No           \n",
       "3                                                 No           \n",
       "4                                                 No           \n",
       "\n",
       "   Rank Likelihood of Purchasing an Item from Instagram marketplace  \\\n",
       "0                                                  0                  \n",
       "1                                                  0                  \n",
       "2                                                  1                  \n",
       "3                                                  0                  \n",
       "4                                                  0                  \n",
       "\n",
       "  Hours Spent on Instagram Daily  Age  Gender  \n",
       "0                        1-3 hrs   21    Male  \n",
       "1                        3-5 hrs   22  Female  \n",
       "2                         0-1 hr   22    Male  \n",
       "3                         0-1 hr   21    Male  \n",
       "4                         0-1 hr   21    Male  "
      ]
     },
     "execution_count": 7,
     "metadata": {},
     "output_type": "execute_result"
    }
   ],
   "source": [
    "data.head()"
   ]
  },
  {
   "cell_type": "markdown",
   "id": "9b06e548",
   "metadata": {},
   "source": [
    "$H_0$: $\\mu_A =\\mu_B$ The location of the two buttons, specifically which button is at the bottom menu of the screen, has no impact on user experience."
   ]
  },
  {
   "cell_type": "markdown",
   "id": "53390111",
   "metadata": {},
   "source": [
    "$H_A$: $\\mu_A \\neq \\mu_B$ The location of the two buttons, specifically which button is at the bottom menu of the screen, has an impact on user experience."
   ]
  },
  {
   "cell_type": "code",
   "execution_count": 8,
   "id": "328b590c",
   "metadata": {},
   "outputs": [
    {
     "data": {
      "text/plain": [
       "LeveneResult(statistic=0.4160583941605842, pvalue=0.5227859200159899)"
      ]
     },
     "execution_count": 8,
     "metadata": {},
     "output_type": "execute_result"
    }
   ],
   "source": [
    "scipy.stats.levene(data[data.Interface==1][\"Rank Placement of Create and Marketplace Button Based on Where Expected\"], data[data.Interface==2][\"Rank Placement of Create and Marketplace Button Based on Where Expected\"])"
   ]
  },
  {
   "cell_type": "code",
   "execution_count": 12,
   "id": "928a3c41",
   "metadata": {},
   "outputs": [
    {
     "data": {
      "text/plain": [
       "ShapiroResult(statistic=0.8281751871109009, pvalue=0.0023464150726795197)"
      ]
     },
     "execution_count": 12,
     "metadata": {},
     "output_type": "execute_result"
    }
   ],
   "source": [
    "scipy.stats.shapiro(data[data.Interface==1][\"Rank Placement of Create and Marketplace Button Based on Where Expected\"])"
   ]
  },
  {
   "cell_type": "code",
   "execution_count": 13,
   "id": "e44d3a0e",
   "metadata": {},
   "outputs": [
    {
     "data": {
      "text/plain": [
       "ShapiroResult(statistic=0.8872185945510864, pvalue=0.023913856595754623)"
      ]
     },
     "execution_count": 13,
     "metadata": {},
     "output_type": "execute_result"
    }
   ],
   "source": [
    "scipy.stats.shapiro(data[data.Interface==2][\"Rank Placement of Create and Marketplace Button Based on Where Expected\"]) "
   ]
  },
  {
   "cell_type": "code",
   "execution_count": 14,
   "id": "b7a47d90",
   "metadata": {},
   "outputs": [
    {
     "data": {
      "text/plain": [
       "MannwhitneyuResult(statistic=221.0, pvalue=0.5533587259797331)"
      ]
     },
     "execution_count": 14,
     "metadata": {},
     "output_type": "execute_result"
    }
   ],
   "source": [
    "scipy.stats.mannwhitneyu(data[data.Interface==1][\"Rank Placement of Create and Marketplace Button Based on Where Expected\"], data[data.Interface==2][\"Rank Placement of Create and Marketplace Button Based on Where Expected\"])"
   ]
  },
  {
   "cell_type": "code",
   "execution_count": 15,
   "id": "89ff4eed",
   "metadata": {},
   "outputs": [
    {
     "name": "stdout",
     "output_type": "stream",
     "text": [
      "Mean for Interface 1:  2.7\n",
      "Median for Interface 1:  3.0\n",
      "Standard error for Interface 1:  0.2064741604835056\n",
      "Mean for Interface 2:  2.55\n",
      "Median for Interface 2:  3.0\n",
      "Standard error for Interface 2:  0.21119958133929795\n"
     ]
    }
   ],
   "source": [
    "print(\"Mean for Interface 1: \", data[data.Interface==1][\"Rank Placement of Create and Marketplace Button Based on Where Expected\"].mean())\n",
    "print(\"Median for Interface 1: \", data[data.Interface==1][\"Rank Placement of Create and Marketplace Button Based on Where Expected\"].median())\n",
    "print(\"Standard error for Interface 1: \", scipy.stats.sem(data[data.Interface==1][\"Rank Placement of Create and Marketplace Button Based on Where Expected\"]))\n",
    "\n",
    "print(\"Mean for Interface 2: \", data[data.Interface==2][\"Rank Placement of Create and Marketplace Button Based on Where Expected\"].mean())\n",
    "print(\"Median for Interface 2: \", data[data.Interface==2][\"Rank Placement of Create and Marketplace Button Based on Where Expected\"].median())\n",
    "print(\"Standard error for Interface 2: \", scipy.stats.sem(data[data.Interface==2][\"Rank Placement of Create and Marketplace Button Based on Where Expected\"]))"
   ]
  },
  {
   "cell_type": "markdown",
   "id": "a23ab873",
   "metadata": {},
   "source": [
    "Upon an examination of the dependent variable, it was found that the assumption of normality was violated (p < .05) using the Shapiro-Wilk test. Therefore, a Mann-Whitney test was conducted to compare the ranking of the placement of the Create and Marketplace Button on Instagram based on where participants expected them to be for Interface 1 and 2. The mean placement ranking for Interface 1 (Median = 3.0, Mean = 2.7, SE = 0.2065) is greater than that of Interface 2 (Median = 3.0, Mean = 2.55, SE = 0.2112). However, results show there is not a statistically significant difference between the two (W=221, p = 0.55), meaning we accept the null hypothesis that the location of the two buttons, specifically which button is at the bottom menu of the screen, has no impact on user experience. "
   ]
  }
 ],
 "metadata": {
  "kernelspec": {
   "display_name": "Python 3 (ipykernel)",
   "language": "python",
   "name": "python3"
  },
  "language_info": {
   "codemirror_mode": {
    "name": "ipython",
    "version": 3
   },
   "file_extension": ".py",
   "mimetype": "text/x-python",
   "name": "python",
   "nbconvert_exporter": "python",
   "pygments_lexer": "ipython3",
   "version": "3.9.6"
  }
 },
 "nbformat": 4,
 "nbformat_minor": 5
}
