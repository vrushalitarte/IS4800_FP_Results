{
 "cells": [
  {
   "cell_type": "code",
   "execution_count": 1,
   "id": "e6ffb126",
   "metadata": {},
   "outputs": [],
   "source": [
    "import pandas as pd \n",
    "import altair as alt\n",
    "import scipy.stats\n",
    "import matplotlib.pyplot as plt\n",
    "import pingouin as pg"
   ]
  },
  {
   "cell_type": "code",
   "execution_count": 2,
   "id": "b293fdc9",
   "metadata": {},
   "outputs": [],
   "source": [
    "data = pd.read_csv(\"SurveyData.csv\")"
   ]
  },
  {
   "cell_type": "code",
   "execution_count": 3,
   "id": "32812448",
   "metadata": {},
   "outputs": [
    {
     "data": {
      "text/html": [
       "<div>\n",
       "<style scoped>\n",
       "    .dataframe tbody tr th:only-of-type {\n",
       "        vertical-align: middle;\n",
       "    }\n",
       "\n",
       "    .dataframe tbody tr th {\n",
       "        vertical-align: top;\n",
       "    }\n",
       "\n",
       "    .dataframe thead th {\n",
       "        text-align: right;\n",
       "    }\n",
       "</style>\n",
       "<table border=\"1\" class=\"dataframe\">\n",
       "  <thead>\n",
       "    <tr style=\"text-align: right;\">\n",
       "      <th></th>\n",
       "      <th>Experimenter</th>\n",
       "      <th>PID</th>\n",
       "      <th>Interface</th>\n",
       "      <th>Rank Placement of Create and Marketplace Button Based on Where Expected</th>\n",
       "      <th>Often Intend to Click Certain Button and Get Unexpected Results</th>\n",
       "      <th>Rank Use on Instagram in Terms of Frequency - Explore Page</th>\n",
       "      <th>Rank Use on Instagram in Terms of Frequency - Feed</th>\n",
       "      <th>Rank Use on Instagram in Terms of Frequency - Marketplace</th>\n",
       "      <th>Rank Use on Instagram in Terms of Frequency - Messaging</th>\n",
       "      <th>Rank Use on Instagram in Terms of Frequency - Create content (post images/stories/reels)</th>\n",
       "      <th>Rank Use on Instagram in Terms of Frequency - Stories</th>\n",
       "      <th>Intentionally Used the Instagram Create Button Before</th>\n",
       "      <th>Intentionally Used the Instagram Marketplace Button Before</th>\n",
       "      <th>Rank Likelihood of Purchasing an Item from Instagram marketplace</th>\n",
       "      <th>Hours Spent on Instagram Daily</th>\n",
       "      <th>Age</th>\n",
       "      <th>Gender</th>\n",
       "    </tr>\n",
       "  </thead>\n",
       "  <tbody>\n",
       "    <tr>\n",
       "      <th>0</th>\n",
       "      <td>Team</td>\n",
       "      <td>1</td>\n",
       "      <td>2</td>\n",
       "      <td>2</td>\n",
       "      <td>No</td>\n",
       "      <td>2</td>\n",
       "      <td>1</td>\n",
       "      <td>6</td>\n",
       "      <td>3</td>\n",
       "      <td>5</td>\n",
       "      <td>4</td>\n",
       "      <td>Yes</td>\n",
       "      <td>No</td>\n",
       "      <td>0</td>\n",
       "      <td>1-3 hrs</td>\n",
       "      <td>21</td>\n",
       "      <td>Male</td>\n",
       "    </tr>\n",
       "    <tr>\n",
       "      <th>1</th>\n",
       "      <td>Team</td>\n",
       "      <td>2</td>\n",
       "      <td>2</td>\n",
       "      <td>3</td>\n",
       "      <td>Yes</td>\n",
       "      <td>4</td>\n",
       "      <td>1</td>\n",
       "      <td>6</td>\n",
       "      <td>5</td>\n",
       "      <td>3</td>\n",
       "      <td>2</td>\n",
       "      <td>Yes</td>\n",
       "      <td>No</td>\n",
       "      <td>0</td>\n",
       "      <td>3-5 hrs</td>\n",
       "      <td>22</td>\n",
       "      <td>Female</td>\n",
       "    </tr>\n",
       "    <tr>\n",
       "      <th>2</th>\n",
       "      <td>Team</td>\n",
       "      <td>3</td>\n",
       "      <td>2</td>\n",
       "      <td>1</td>\n",
       "      <td>Yes</td>\n",
       "      <td>5</td>\n",
       "      <td>1</td>\n",
       "      <td>6</td>\n",
       "      <td>2</td>\n",
       "      <td>4</td>\n",
       "      <td>3</td>\n",
       "      <td>Yes</td>\n",
       "      <td>No</td>\n",
       "      <td>1</td>\n",
       "      <td>0-1 hr</td>\n",
       "      <td>22</td>\n",
       "      <td>Male</td>\n",
       "    </tr>\n",
       "    <tr>\n",
       "      <th>3</th>\n",
       "      <td>Team</td>\n",
       "      <td>4</td>\n",
       "      <td>2</td>\n",
       "      <td>2</td>\n",
       "      <td>No</td>\n",
       "      <td>4</td>\n",
       "      <td>5</td>\n",
       "      <td>6</td>\n",
       "      <td>2</td>\n",
       "      <td>3</td>\n",
       "      <td>1</td>\n",
       "      <td>No</td>\n",
       "      <td>No</td>\n",
       "      <td>0</td>\n",
       "      <td>0-1 hr</td>\n",
       "      <td>21</td>\n",
       "      <td>Male</td>\n",
       "    </tr>\n",
       "    <tr>\n",
       "      <th>4</th>\n",
       "      <td>Team</td>\n",
       "      <td>5</td>\n",
       "      <td>2</td>\n",
       "      <td>1</td>\n",
       "      <td>No</td>\n",
       "      <td>1</td>\n",
       "      <td>2</td>\n",
       "      <td>3</td>\n",
       "      <td>5</td>\n",
       "      <td>6</td>\n",
       "      <td>4</td>\n",
       "      <td>No</td>\n",
       "      <td>No</td>\n",
       "      <td>0</td>\n",
       "      <td>0-1 hr</td>\n",
       "      <td>21</td>\n",
       "      <td>Male</td>\n",
       "    </tr>\n",
       "  </tbody>\n",
       "</table>\n",
       "</div>"
      ],
      "text/plain": [
       "  Experimenter  PID  Interface  \\\n",
       "0         Team    1          2   \n",
       "1         Team    2          2   \n",
       "2         Team    3          2   \n",
       "3         Team    4          2   \n",
       "4         Team    5          2   \n",
       "\n",
       "   Rank Placement of Create and Marketplace Button Based on Where Expected  \\\n",
       "0                                                  2                         \n",
       "1                                                  3                         \n",
       "2                                                  1                         \n",
       "3                                                  2                         \n",
       "4                                                  1                         \n",
       "\n",
       "  Often Intend to Click Certain Button and Get Unexpected Results  \\\n",
       "0                                                 No                \n",
       "1                                                Yes                \n",
       "2                                                Yes                \n",
       "3                                                 No                \n",
       "4                                                 No                \n",
       "\n",
       "   Rank Use on Instagram in Terms of Frequency - Explore Page  \\\n",
       "0                                                  2            \n",
       "1                                                  4            \n",
       "2                                                  5            \n",
       "3                                                  4            \n",
       "4                                                  1            \n",
       "\n",
       "   Rank Use on Instagram in Terms of Frequency - Feed  \\\n",
       "0                                                  1    \n",
       "1                                                  1    \n",
       "2                                                  1    \n",
       "3                                                  5    \n",
       "4                                                  2    \n",
       "\n",
       "   Rank Use on Instagram in Terms of Frequency - Marketplace  \\\n",
       "0                                                  6           \n",
       "1                                                  6           \n",
       "2                                                  6           \n",
       "3                                                  6           \n",
       "4                                                  3           \n",
       "\n",
       "   Rank Use on Instagram in Terms of Frequency - Messaging  \\\n",
       "0                                                  3         \n",
       "1                                                  5         \n",
       "2                                                  2         \n",
       "3                                                  2         \n",
       "4                                                  5         \n",
       "\n",
       "   Rank Use on Instagram in Terms of Frequency - Create content (post images/stories/reels)  \\\n",
       "0                                                  5                                          \n",
       "1                                                  3                                          \n",
       "2                                                  4                                          \n",
       "3                                                  3                                          \n",
       "4                                                  6                                          \n",
       "\n",
       "   Rank Use on Instagram in Terms of Frequency - Stories  \\\n",
       "0                                                  4       \n",
       "1                                                  2       \n",
       "2                                                  3       \n",
       "3                                                  1       \n",
       "4                                                  4       \n",
       "\n",
       "  Intentionally Used the Instagram Create Button Before  \\\n",
       "0                                                Yes      \n",
       "1                                                Yes      \n",
       "2                                                Yes      \n",
       "3                                                 No      \n",
       "4                                                 No      \n",
       "\n",
       "  Intentionally Used the Instagram Marketplace Button Before  \\\n",
       "0                                                 No           \n",
       "1                                                 No           \n",
       "2                                                 No           \n",
       "3                                                 No           \n",
       "4                                                 No           \n",
       "\n",
       "   Rank Likelihood of Purchasing an Item from Instagram marketplace  \\\n",
       "0                                                  0                  \n",
       "1                                                  0                  \n",
       "2                                                  1                  \n",
       "3                                                  0                  \n",
       "4                                                  0                  \n",
       "\n",
       "  Hours Spent on Instagram Daily  Age  Gender  \n",
       "0                        1-3 hrs   21    Male  \n",
       "1                        3-5 hrs   22  Female  \n",
       "2                         0-1 hr   22    Male  \n",
       "3                         0-1 hr   21    Male  \n",
       "4                         0-1 hr   21    Male  "
      ]
     },
     "execution_count": 3,
     "metadata": {},
     "output_type": "execute_result"
    }
   ],
   "source": [
    "data.head()"
   ]
  },
  {
   "cell_type": "markdown",
   "id": "9b06e548",
   "metadata": {},
   "source": [
    "$H_0$: $\\mu_A =\\mu_B$ Changing the location of the Create and Marketplace buttons does not have a negative impact on user experience."
   ]
  },
  {
   "cell_type": "markdown",
   "id": "53390111",
   "metadata": {},
   "source": [
    "$H_A$: $\\mu_A \\neq \\mu_B$ Changing the location of the Create and Marketplace buttons does have a negative impact on user experience."
   ]
  },
  {
   "cell_type": "code",
   "execution_count": 4,
   "id": "328b590c",
   "metadata": {},
   "outputs": [
    {
     "data": {
      "text/plain": [
       "LeveneResult(statistic=0.4160583941605842, pvalue=0.5227859200159899)"
      ]
     },
     "execution_count": 4,
     "metadata": {},
     "output_type": "execute_result"
    }
   ],
   "source": [
    "scipy.stats.levene(data[data.Interface==1][\"Rank Placement of Create and Marketplace Button Based on Where Expected\"], data[data.Interface==2][\"Rank Placement of Create and Marketplace Button Based on Where Expected\"])"
   ]
  },
  {
   "cell_type": "code",
   "execution_count": 5,
   "id": "928a3c41",
   "metadata": {},
   "outputs": [
    {
     "data": {
      "text/plain": [
       "ShapiroResult(statistic=0.8281751871109009, pvalue=0.0023464150726795197)"
      ]
     },
     "execution_count": 5,
     "metadata": {},
     "output_type": "execute_result"
    }
   ],
   "source": [
    "scipy.stats.shapiro(data[data.Interface==1][\"Rank Placement of Create and Marketplace Button Based on Where Expected\"])"
   ]
  },
  {
   "cell_type": "code",
   "execution_count": 6,
   "id": "e44d3a0e",
   "metadata": {},
   "outputs": [
    {
     "data": {
      "text/plain": [
       "ShapiroResult(statistic=0.8872185945510864, pvalue=0.023913856595754623)"
      ]
     },
     "execution_count": 6,
     "metadata": {},
     "output_type": "execute_result"
    }
   ],
   "source": [
    "scipy.stats.shapiro(data[data.Interface==2][\"Rank Placement of Create and Marketplace Button Based on Where Expected\"]) "
   ]
  },
  {
   "cell_type": "code",
   "execution_count": 7,
   "id": "b7a47d90",
   "metadata": {},
   "outputs": [
    {
     "data": {
      "text/plain": [
       "MannwhitneyuResult(statistic=221.0, pvalue=0.5533587259797331)"
      ]
     },
     "execution_count": 7,
     "metadata": {},
     "output_type": "execute_result"
    }
   ],
   "source": [
    "scipy.stats.mannwhitneyu(data[data.Interface==1][\"Rank Placement of Create and Marketplace Button Based on Where Expected\"], data[data.Interface==2][\"Rank Placement of Create and Marketplace Button Based on Where Expected\"])"
   ]
  },
  {
   "cell_type": "code",
   "execution_count": 8,
   "id": "89ff4eed",
   "metadata": {},
   "outputs": [
    {
     "name": "stdout",
     "output_type": "stream",
     "text": [
      "Mean for Interface 1:  2.7\n",
      "Median for Interface 1:  3.0\n",
      "Standard error for Interface 1:  0.2064741604835056\n",
      "Mean for Interface 2:  2.55\n",
      "Median for Interface 2:  3.0\n",
      "Standard error for Interface 2:  0.21119958133929795\n"
     ]
    }
   ],
   "source": [
    "print(\"Mean for Interface 1: \", data[data.Interface==1][\"Rank Placement of Create and Marketplace Button Based on Where Expected\"].mean())\n",
    "print(\"Median for Interface 1: \", data[data.Interface==1][\"Rank Placement of Create and Marketplace Button Based on Where Expected\"].median())\n",
    "print(\"Standard error for Interface 1: \", scipy.stats.sem(data[data.Interface==1][\"Rank Placement of Create and Marketplace Button Based on Where Expected\"]))\n",
    "\n",
    "print(\"Mean for Interface 2: \", data[data.Interface==2][\"Rank Placement of Create and Marketplace Button Based on Where Expected\"].mean())\n",
    "print(\"Median for Interface 2: \", data[data.Interface==2][\"Rank Placement of Create and Marketplace Button Based on Where Expected\"].median())\n",
    "print(\"Standard error for Interface 2: \", scipy.stats.sem(data[data.Interface==2][\"Rank Placement of Create and Marketplace Button Based on Where Expected\"]))"
   ]
  },
  {
   "cell_type": "code",
   "execution_count": 9,
   "id": "6018a4e8",
   "metadata": {},
   "outputs": [
    {
     "data": {
      "text/html": [
       "\n",
       "<div id=\"altair-viz-b4dbd9de2bc745bf8be8ca3b489c91fe\"></div>\n",
       "<script type=\"text/javascript\">\n",
       "  var VEGA_DEBUG = (typeof VEGA_DEBUG == \"undefined\") ? {} : VEGA_DEBUG;\n",
       "  (function(spec, embedOpt){\n",
       "    let outputDiv = document.currentScript.previousElementSibling;\n",
       "    if (outputDiv.id !== \"altair-viz-b4dbd9de2bc745bf8be8ca3b489c91fe\") {\n",
       "      outputDiv = document.getElementById(\"altair-viz-b4dbd9de2bc745bf8be8ca3b489c91fe\");\n",
       "    }\n",
       "    const paths = {\n",
       "      \"vega\": \"https://cdn.jsdelivr.net/npm//vega@5?noext\",\n",
       "      \"vega-lib\": \"https://cdn.jsdelivr.net/npm//vega-lib?noext\",\n",
       "      \"vega-lite\": \"https://cdn.jsdelivr.net/npm//vega-lite@4.17.0?noext\",\n",
       "      \"vega-embed\": \"https://cdn.jsdelivr.net/npm//vega-embed@6?noext\",\n",
       "    };\n",
       "\n",
       "    function maybeLoadScript(lib, version) {\n",
       "      var key = `${lib.replace(\"-\", \"\")}_version`;\n",
       "      return (VEGA_DEBUG[key] == version) ?\n",
       "        Promise.resolve(paths[lib]) :\n",
       "        new Promise(function(resolve, reject) {\n",
       "          var s = document.createElement('script');\n",
       "          document.getElementsByTagName(\"head\")[0].appendChild(s);\n",
       "          s.async = true;\n",
       "          s.onload = () => {\n",
       "            VEGA_DEBUG[key] = version;\n",
       "            return resolve(paths[lib]);\n",
       "          };\n",
       "          s.onerror = () => reject(`Error loading script: ${paths[lib]}`);\n",
       "          s.src = paths[lib];\n",
       "        });\n",
       "    }\n",
       "\n",
       "    function showError(err) {\n",
       "      outputDiv.innerHTML = `<div class=\"error\" style=\"color:red;\">${err}</div>`;\n",
       "      throw err;\n",
       "    }\n",
       "\n",
       "    function displayChart(vegaEmbed) {\n",
       "      vegaEmbed(outputDiv, spec, embedOpt)\n",
       "        .catch(err => showError(`Javascript Error: ${err.message}<br>This usually means there's a typo in your chart specification. See the javascript console for the full traceback.`));\n",
       "    }\n",
       "\n",
       "    if(typeof define === \"function\" && define.amd) {\n",
       "      requirejs.config({paths});\n",
       "      require([\"vega-embed\"], displayChart, err => showError(`Error loading script: ${err.message}`));\n",
       "    } else {\n",
       "      maybeLoadScript(\"vega\", \"5\")\n",
       "        .then(() => maybeLoadScript(\"vega-lite\", \"4.17.0\"))\n",
       "        .then(() => maybeLoadScript(\"vega-embed\", \"6\"))\n",
       "        .catch(showError)\n",
       "        .then(() => displayChart(vegaEmbed));\n",
       "    }\n",
       "  })({\"config\": {\"view\": {\"continuousWidth\": 400, \"continuousHeight\": 300}}, \"data\": {\"name\": \"data-e9a0a8fe83433ffe7a6a10d349d647c6\"}, \"mark\": \"bar\", \"encoding\": {\"color\": {\"field\": \"Interface\", \"type\": \"nominal\"}, \"x\": {\"bin\": true, \"field\": \"Rank Placement of Create and Marketplace Button Based on Where Expected\", \"title\": \"Ranked Placement Based on Where Expected\", \"type\": \"quantitative\"}, \"y\": {\"aggregate\": \"count\", \"title\": \"Count of Each Ranking\", \"type\": \"quantitative\"}}, \"title\": \"Ranked Placement of Create and Marketplace Button by Interface\", \"$schema\": \"https://vega.github.io/schema/vega-lite/v4.17.0.json\", \"datasets\": {\"data-e9a0a8fe83433ffe7a6a10d349d647c6\": [{\"Experimenter\": \"Team\", \"PID\": 1, \"Interface\": 2, \"Rank Placement of Create and Marketplace Button Based on Where Expected\": 2, \"Often Intend to Click Certain Button and Get Unexpected Results\": \"No\", \"Rank Use on Instagram in Terms of Frequency - Explore Page\": 2, \"Rank Use on Instagram in Terms of Frequency - Feed\": 1, \"Rank Use on Instagram in Terms of Frequency - Marketplace\": 6, \"Rank Use on Instagram in Terms of Frequency - Messaging\": 3, \"Rank Use on Instagram in Terms of Frequency - Create content (post images/stories/reels)\": 5, \"Rank Use on Instagram in Terms of Frequency - Stories\": 4, \"Intentionally Used the Instagram Create Button Before\": \"Yes\", \"Intentionally Used the Instagram Marketplace Button Before\": \"No\", \"Rank Likelihood of Purchasing an Item from Instagram marketplace\": 0, \"Hours Spent on Instagram Daily\": \"1-3 hrs\", \"Age\": 21, \"Gender\": \"Male\"}, {\"Experimenter\": \"Team\", \"PID\": 2, \"Interface\": 2, \"Rank Placement of Create and Marketplace Button Based on Where Expected\": 3, \"Often Intend to Click Certain Button and Get Unexpected Results\": \"Yes\", \"Rank Use on Instagram in Terms of Frequency - Explore Page\": 4, \"Rank Use on Instagram in Terms of Frequency - Feed\": 1, \"Rank Use on Instagram in Terms of Frequency - Marketplace\": 6, \"Rank Use on Instagram in Terms of Frequency - Messaging\": 5, \"Rank Use on Instagram in Terms of Frequency - Create content (post images/stories/reels)\": 3, \"Rank Use on Instagram in Terms of Frequency - Stories\": 2, \"Intentionally Used the Instagram Create Button Before\": \"Yes\", \"Intentionally Used the Instagram Marketplace Button Before\": \"No\", \"Rank Likelihood of Purchasing an Item from Instagram marketplace\": 0, \"Hours Spent on Instagram Daily\": \"3-5 hrs\", \"Age\": 22, \"Gender\": \"Female\"}, {\"Experimenter\": \"Team\", \"PID\": 3, \"Interface\": 2, \"Rank Placement of Create and Marketplace Button Based on Where Expected\": 1, \"Often Intend to Click Certain Button and Get Unexpected Results\": \"Yes\", \"Rank Use on Instagram in Terms of Frequency - Explore Page\": 5, \"Rank Use on Instagram in Terms of Frequency - Feed\": 1, \"Rank Use on Instagram in Terms of Frequency - Marketplace\": 6, \"Rank Use on Instagram in Terms of Frequency - Messaging\": 2, \"Rank Use on Instagram in Terms of Frequency - Create content (post images/stories/reels)\": 4, \"Rank Use on Instagram in Terms of Frequency - Stories\": 3, \"Intentionally Used the Instagram Create Button Before\": \"Yes\", \"Intentionally Used the Instagram Marketplace Button Before\": \"No\", \"Rank Likelihood of Purchasing an Item from Instagram marketplace\": 1, \"Hours Spent on Instagram Daily\": \"0-1 hr\", \"Age\": 22, \"Gender\": \"Male\"}, {\"Experimenter\": \"Team\", \"PID\": 4, \"Interface\": 2, \"Rank Placement of Create and Marketplace Button Based on Where Expected\": 2, \"Often Intend to Click Certain Button and Get Unexpected Results\": \"No\", \"Rank Use on Instagram in Terms of Frequency - Explore Page\": 4, \"Rank Use on Instagram in Terms of Frequency - Feed\": 5, \"Rank Use on Instagram in Terms of Frequency - Marketplace\": 6, \"Rank Use on Instagram in Terms of Frequency - Messaging\": 2, \"Rank Use on Instagram in Terms of Frequency - Create content (post images/stories/reels)\": 3, \"Rank Use on Instagram in Terms of Frequency - Stories\": 1, \"Intentionally Used the Instagram Create Button Before\": \"No\", \"Intentionally Used the Instagram Marketplace Button Before\": \"No\", \"Rank Likelihood of Purchasing an Item from Instagram marketplace\": 0, \"Hours Spent on Instagram Daily\": \"0-1 hr\", \"Age\": 21, \"Gender\": \"Male\"}, {\"Experimenter\": \"Team\", \"PID\": 5, \"Interface\": 2, \"Rank Placement of Create and Marketplace Button Based on Where Expected\": 1, \"Often Intend to Click Certain Button and Get Unexpected Results\": \"No\", \"Rank Use on Instagram in Terms of Frequency - Explore Page\": 1, \"Rank Use on Instagram in Terms of Frequency - Feed\": 2, \"Rank Use on Instagram in Terms of Frequency - Marketplace\": 3, \"Rank Use on Instagram in Terms of Frequency - Messaging\": 5, \"Rank Use on Instagram in Terms of Frequency - Create content (post images/stories/reels)\": 6, \"Rank Use on Instagram in Terms of Frequency - Stories\": 4, \"Intentionally Used the Instagram Create Button Before\": \"No\", \"Intentionally Used the Instagram Marketplace Button Before\": \"No\", \"Rank Likelihood of Purchasing an Item from Instagram marketplace\": 0, \"Hours Spent on Instagram Daily\": \"0-1 hr\", \"Age\": 21, \"Gender\": \"Male\"}, {\"Experimenter\": \"Team\", \"PID\": 6, \"Interface\": 2, \"Rank Placement of Create and Marketplace Button Based on Where Expected\": 4, \"Often Intend to Click Certain Button and Get Unexpected Results\": \"Yes\", \"Rank Use on Instagram in Terms of Frequency - Explore Page\": 5, \"Rank Use on Instagram in Terms of Frequency - Feed\": 1, \"Rank Use on Instagram in Terms of Frequency - Marketplace\": 6, \"Rank Use on Instagram in Terms of Frequency - Messaging\": 4, \"Rank Use on Instagram in Terms of Frequency - Create content (post images/stories/reels)\": 2, \"Rank Use on Instagram in Terms of Frequency - Stories\": 3, \"Intentionally Used the Instagram Create Button Before\": \"Yes\", \"Intentionally Used the Instagram Marketplace Button Before\": \"No\", \"Rank Likelihood of Purchasing an Item from Instagram marketplace\": 0, \"Hours Spent on Instagram Daily\": \"0-1 hr\", \"Age\": 20, \"Gender\": \"Female\"}, {\"Experimenter\": \"Team\", \"PID\": 7, \"Interface\": 2, \"Rank Placement of Create and Marketplace Button Based on Where Expected\": 2, \"Often Intend to Click Certain Button and Get Unexpected Results\": \"No\", \"Rank Use on Instagram in Terms of Frequency - Explore Page\": 2, \"Rank Use on Instagram in Terms of Frequency - Feed\": 1, \"Rank Use on Instagram in Terms of Frequency - Marketplace\": 6, \"Rank Use on Instagram in Terms of Frequency - Messaging\": 4, \"Rank Use on Instagram in Terms of Frequency - Create content (post images/stories/reels)\": 5, \"Rank Use on Instagram in Terms of Frequency - Stories\": 3, \"Intentionally Used the Instagram Create Button Before\": \"Yes\", \"Intentionally Used the Instagram Marketplace Button Before\": \"Yes\", \"Rank Likelihood of Purchasing an Item from Instagram marketplace\": 1, \"Hours Spent on Instagram Daily\": \"0-1 hr\", \"Age\": 20, \"Gender\": \"Male\"}, {\"Experimenter\": \"Team\", \"PID\": 8, \"Interface\": 2, \"Rank Placement of Create and Marketplace Button Based on Where Expected\": 2, \"Often Intend to Click Certain Button and Get Unexpected Results\": \"No\", \"Rank Use on Instagram in Terms of Frequency - Explore Page\": 1, \"Rank Use on Instagram in Terms of Frequency - Feed\": 2, \"Rank Use on Instagram in Terms of Frequency - Marketplace\": 6, \"Rank Use on Instagram in Terms of Frequency - Messaging\": 4, \"Rank Use on Instagram in Terms of Frequency - Create content (post images/stories/reels)\": 5, \"Rank Use on Instagram in Terms of Frequency - Stories\": 3, \"Intentionally Used the Instagram Create Button Before\": \"Yes\", \"Intentionally Used the Instagram Marketplace Button Before\": \"No\", \"Rank Likelihood of Purchasing an Item from Instagram marketplace\": 0, \"Hours Spent on Instagram Daily\": \"0-1 hr\", \"Age\": 20, \"Gender\": \"Male\"}, {\"Experimenter\": \"Vrushali\", \"PID\": 9, \"Interface\": 2, \"Rank Placement of Create and Marketplace Button Based on Where Expected\": 3, \"Often Intend to Click Certain Button and Get Unexpected Results\": \"No\", \"Rank Use on Instagram in Terms of Frequency - Explore Page\": 5, \"Rank Use on Instagram in Terms of Frequency - Feed\": 2, \"Rank Use on Instagram in Terms of Frequency - Marketplace\": 6, \"Rank Use on Instagram in Terms of Frequency - Messaging\": 4, \"Rank Use on Instagram in Terms of Frequency - Create content (post images/stories/reels)\": 3, \"Rank Use on Instagram in Terms of Frequency - Stories\": 1, \"Intentionally Used the Instagram Create Button Before\": \"Yes\", \"Intentionally Used the Instagram Marketplace Button Before\": \"No\", \"Rank Likelihood of Purchasing an Item from Instagram marketplace\": 0, \"Hours Spent on Instagram Daily\": \"0-1 hr\", \"Age\": 22, \"Gender\": \"Female\"}, {\"Experimenter\": \"Vrushali\", \"PID\": 10, \"Interface\": 2, \"Rank Placement of Create and Marketplace Button Based on Where Expected\": 3, \"Often Intend to Click Certain Button and Get Unexpected Results\": \"No\", \"Rank Use on Instagram in Terms of Frequency - Explore Page\": 4, \"Rank Use on Instagram in Terms of Frequency - Feed\": 3, \"Rank Use on Instagram in Terms of Frequency - Marketplace\": 5, \"Rank Use on Instagram in Terms of Frequency - Messaging\": 1, \"Rank Use on Instagram in Terms of Frequency - Create content (post images/stories/reels)\": 6, \"Rank Use on Instagram in Terms of Frequency - Stories\": 2, \"Intentionally Used the Instagram Create Button Before\": \"No\", \"Intentionally Used the Instagram Marketplace Button Before\": \"No\", \"Rank Likelihood of Purchasing an Item from Instagram marketplace\": 0, \"Hours Spent on Instagram Daily\": \"0-1 hr\", \"Age\": 21, \"Gender\": \"Female\"}, {\"Experimenter\": \"Vrushali\", \"PID\": 11, \"Interface\": 2, \"Rank Placement of Create and Marketplace Button Based on Where Expected\": 3, \"Often Intend to Click Certain Button and Get Unexpected Results\": \"No\", \"Rank Use on Instagram in Terms of Frequency - Explore Page\": 3, \"Rank Use on Instagram in Terms of Frequency - Feed\": 1, \"Rank Use on Instagram in Terms of Frequency - Marketplace\": 6, \"Rank Use on Instagram in Terms of Frequency - Messaging\": 2, \"Rank Use on Instagram in Terms of Frequency - Create content (post images/stories/reels)\": 5, \"Rank Use on Instagram in Terms of Frequency - Stories\": 4, \"Intentionally Used the Instagram Create Button Before\": \"Yes\", \"Intentionally Used the Instagram Marketplace Button Before\": \"No\", \"Rank Likelihood of Purchasing an Item from Instagram marketplace\": 1, \"Hours Spent on Instagram Daily\": \"1-3 hrs\", \"Age\": 20, \"Gender\": \"Male\"}, {\"Experimenter\": \"Grace\", \"PID\": 12, \"Interface\": 2, \"Rank Placement of Create and Marketplace Button Based on Where Expected\": 4, \"Often Intend to Click Certain Button and Get Unexpected Results\": \"No\", \"Rank Use on Instagram in Terms of Frequency - Explore Page\": 2, \"Rank Use on Instagram in Terms of Frequency - Feed\": 1, \"Rank Use on Instagram in Terms of Frequency - Marketplace\": 6, \"Rank Use on Instagram in Terms of Frequency - Messaging\": 3, \"Rank Use on Instagram in Terms of Frequency - Create content (post images/stories/reels)\": 5, \"Rank Use on Instagram in Terms of Frequency - Stories\": 4, \"Intentionally Used the Instagram Create Button Before\": \"Yes\", \"Intentionally Used the Instagram Marketplace Button Before\": \"Yes\", \"Rank Likelihood of Purchasing an Item from Instagram marketplace\": 0, \"Hours Spent on Instagram Daily\": \"1-3 hrs\", \"Age\": 22, \"Gender\": \"Female\"}, {\"Experimenter\": \"Grace\", \"PID\": 13, \"Interface\": 2, \"Rank Placement of Create and Marketplace Button Based on Where Expected\": 3, \"Often Intend to Click Certain Button and Get Unexpected Results\": \"Yes\", \"Rank Use on Instagram in Terms of Frequency - Explore Page\": 3, \"Rank Use on Instagram in Terms of Frequency - Feed\": 1, \"Rank Use on Instagram in Terms of Frequency - Marketplace\": 6, \"Rank Use on Instagram in Terms of Frequency - Messaging\": 2, \"Rank Use on Instagram in Terms of Frequency - Create content (post images/stories/reels)\": 5, \"Rank Use on Instagram in Terms of Frequency - Stories\": 4, \"Intentionally Used the Instagram Create Button Before\": \"No\", \"Intentionally Used the Instagram Marketplace Button Before\": \"No\", \"Rank Likelihood of Purchasing an Item from Instagram marketplace\": 1, \"Hours Spent on Instagram Daily\": \"0-1 hr\", \"Age\": 19, \"Gender\": \"Female\"}, {\"Experimenter\": \"Grace\", \"PID\": 14, \"Interface\": 2, \"Rank Placement of Create and Marketplace Button Based on Where Expected\": 3, \"Often Intend to Click Certain Button and Get Unexpected Results\": \"No\", \"Rank Use on Instagram in Terms of Frequency - Explore Page\": 1, \"Rank Use on Instagram in Terms of Frequency - Feed\": 3, \"Rank Use on Instagram in Terms of Frequency - Marketplace\": 5, \"Rank Use on Instagram in Terms of Frequency - Messaging\": 4, \"Rank Use on Instagram in Terms of Frequency - Create content (post images/stories/reels)\": 6, \"Rank Use on Instagram in Terms of Frequency - Stories\": 2, \"Intentionally Used the Instagram Create Button Before\": \"No\", \"Intentionally Used the Instagram Marketplace Button Before\": \"No\", \"Rank Likelihood of Purchasing an Item from Instagram marketplace\": 1, \"Hours Spent on Instagram Daily\": \"5+ hrs\", \"Age\": 19, \"Gender\": \"Female\"}, {\"Experimenter\": \"Alice\", \"PID\": 15, \"Interface\": 2, \"Rank Placement of Create and Marketplace Button Based on Where Expected\": 1, \"Often Intend to Click Certain Button and Get Unexpected Results\": \"No\", \"Rank Use on Instagram in Terms of Frequency - Explore Page\": 5, \"Rank Use on Instagram in Terms of Frequency - Feed\": 1, \"Rank Use on Instagram in Terms of Frequency - Marketplace\": 6, \"Rank Use on Instagram in Terms of Frequency - Messaging\": 3, \"Rank Use on Instagram in Terms of Frequency - Create content (post images/stories/reels)\": 4, \"Rank Use on Instagram in Terms of Frequency - Stories\": 2, \"Intentionally Used the Instagram Create Button Before\": \"Yes\", \"Intentionally Used the Instagram Marketplace Button Before\": \"No\", \"Rank Likelihood of Purchasing an Item from Instagram marketplace\": 0, \"Hours Spent on Instagram Daily\": \"0-1 hr\", \"Age\": 20, \"Gender\": \"Female\"}, {\"Experimenter\": \"Alice\", \"PID\": 16, \"Interface\": 2, \"Rank Placement of Create and Marketplace Button Based on Where Expected\": 4, \"Often Intend to Click Certain Button and Get Unexpected Results\": \"No\", \"Rank Use on Instagram in Terms of Frequency - Explore Page\": 1, \"Rank Use on Instagram in Terms of Frequency - Feed\": 2, \"Rank Use on Instagram in Terms of Frequency - Marketplace\": 5, \"Rank Use on Instagram in Terms of Frequency - Messaging\": 3, \"Rank Use on Instagram in Terms of Frequency - Create content (post images/stories/reels)\": 6, \"Rank Use on Instagram in Terms of Frequency - Stories\": 4, \"Intentionally Used the Instagram Create Button Before\": \"No\", \"Intentionally Used the Instagram Marketplace Button Before\": \"No\", \"Rank Likelihood of Purchasing an Item from Instagram marketplace\": 0, \"Hours Spent on Instagram Daily\": \"0-1 hr\", \"Age\": 20, \"Gender\": \"Female\"}, {\"Experimenter\": \"Alice\", \"PID\": 17, \"Interface\": 2, \"Rank Placement of Create and Marketplace Button Based on Where Expected\": 2, \"Often Intend to Click Certain Button and Get Unexpected Results\": \"No\", \"Rank Use on Instagram in Terms of Frequency - Explore Page\": 4, \"Rank Use on Instagram in Terms of Frequency - Feed\": 1, \"Rank Use on Instagram in Terms of Frequency - Marketplace\": 6, \"Rank Use on Instagram in Terms of Frequency - Messaging\": 2, \"Rank Use on Instagram in Terms of Frequency - Create content (post images/stories/reels)\": 3, \"Rank Use on Instagram in Terms of Frequency - Stories\": 5, \"Intentionally Used the Instagram Create Button Before\": \"Yes\", \"Intentionally Used the Instagram Marketplace Button Before\": \"Yes\", \"Rank Likelihood of Purchasing an Item from Instagram marketplace\": 0, \"Hours Spent on Instagram Daily\": \"0-1 hr\", \"Age\": 20, \"Gender\": \"Female\"}, {\"Experimenter\": \"Tania\", \"PID\": 18, \"Interface\": 2, \"Rank Placement of Create and Marketplace Button Based on Where Expected\": 3, \"Often Intend to Click Certain Button and Get Unexpected Results\": \"Yes\", \"Rank Use on Instagram in Terms of Frequency - Explore Page\": 1, \"Rank Use on Instagram in Terms of Frequency - Feed\": 2, \"Rank Use on Instagram in Terms of Frequency - Marketplace\": 6, \"Rank Use on Instagram in Terms of Frequency - Messaging\": 3, \"Rank Use on Instagram in Terms of Frequency - Create content (post images/stories/reels)\": 5, \"Rank Use on Instagram in Terms of Frequency - Stories\": 4, \"Intentionally Used the Instagram Create Button Before\": \"No\", \"Intentionally Used the Instagram Marketplace Button Before\": \"No\", \"Rank Likelihood of Purchasing an Item from Instagram marketplace\": 1, \"Hours Spent on Instagram Daily\": \"0-1 hr\", \"Age\": 19, \"Gender\": \"Female\"}, {\"Experimenter\": \"Tania\", \"PID\": 19, \"Interface\": 2, \"Rank Placement of Create and Marketplace Button Based on Where Expected\": 3, \"Often Intend to Click Certain Button and Get Unexpected Results\": \"No\", \"Rank Use on Instagram in Terms of Frequency - Explore Page\": 5, \"Rank Use on Instagram in Terms of Frequency - Feed\": 1, \"Rank Use on Instagram in Terms of Frequency - Marketplace\": 6, \"Rank Use on Instagram in Terms of Frequency - Messaging\": 3, \"Rank Use on Instagram in Terms of Frequency - Create content (post images/stories/reels)\": 4, \"Rank Use on Instagram in Terms of Frequency - Stories\": 2, \"Intentionally Used the Instagram Create Button Before\": \"Yes\", \"Intentionally Used the Instagram Marketplace Button Before\": \"No\", \"Rank Likelihood of Purchasing an Item from Instagram marketplace\": 0, \"Hours Spent on Instagram Daily\": \"0-1 hr\", \"Age\": 20, \"Gender\": \"Male\"}, {\"Experimenter\": \"Tania\", \"PID\": 20, \"Interface\": 2, \"Rank Placement of Create and Marketplace Button Based on Where Expected\": 2, \"Often Intend to Click Certain Button and Get Unexpected Results\": \"No\", \"Rank Use on Instagram in Terms of Frequency - Explore Page\": 4, \"Rank Use on Instagram in Terms of Frequency - Feed\": 3, \"Rank Use on Instagram in Terms of Frequency - Marketplace\": 5, \"Rank Use on Instagram in Terms of Frequency - Messaging\": 1, \"Rank Use on Instagram in Terms of Frequency - Create content (post images/stories/reels)\": 6, \"Rank Use on Instagram in Terms of Frequency - Stories\": 2, \"Intentionally Used the Instagram Create Button Before\": \"Yes\", \"Intentionally Used the Instagram Marketplace Button Before\": \"Yes\", \"Rank Likelihood of Purchasing an Item from Instagram marketplace\": 2, \"Hours Spent on Instagram Daily\": \"1-3 hrs\", \"Age\": 19, \"Gender\": \"Male\"}, {\"Experimenter\": \"Team\", \"PID\": 21, \"Interface\": 1, \"Rank Placement of Create and Marketplace Button Based on Where Expected\": 3, \"Often Intend to Click Certain Button and Get Unexpected Results\": \"No\", \"Rank Use on Instagram in Terms of Frequency - Explore Page\": 1, \"Rank Use on Instagram in Terms of Frequency - Feed\": 3, \"Rank Use on Instagram in Terms of Frequency - Marketplace\": 6, \"Rank Use on Instagram in Terms of Frequency - Messaging\": 4, \"Rank Use on Instagram in Terms of Frequency - Create content (post images/stories/reels)\": 5, \"Rank Use on Instagram in Terms of Frequency - Stories\": 2, \"Intentionally Used the Instagram Create Button Before\": \"Yes\", \"Intentionally Used the Instagram Marketplace Button Before\": \"No\", \"Rank Likelihood of Purchasing an Item from Instagram marketplace\": 0, \"Hours Spent on Instagram Daily\": \"1-3 hrs\", \"Age\": 22, \"Gender\": \"Female\"}, {\"Experimenter\": \"Team\", \"PID\": 22, \"Interface\": 1, \"Rank Placement of Create and Marketplace Button Based on Where Expected\": 4, \"Often Intend to Click Certain Button and Get Unexpected Results\": \"Yes\", \"Rank Use on Instagram in Terms of Frequency - Explore Page\": 5, \"Rank Use on Instagram in Terms of Frequency - Feed\": 2, \"Rank Use on Instagram in Terms of Frequency - Marketplace\": 6, \"Rank Use on Instagram in Terms of Frequency - Messaging\": 3, \"Rank Use on Instagram in Terms of Frequency - Create content (post images/stories/reels)\": 4, \"Rank Use on Instagram in Terms of Frequency - Stories\": 1, \"Intentionally Used the Instagram Create Button Before\": \"Yes\", \"Intentionally Used the Instagram Marketplace Button Before\": \"No\", \"Rank Likelihood of Purchasing an Item from Instagram marketplace\": 2, \"Hours Spent on Instagram Daily\": \"0-1 hr\", \"Age\": 21, \"Gender\": \"Female\"}, {\"Experimenter\": \"Team\", \"PID\": 23, \"Interface\": 1, \"Rank Placement of Create and Marketplace Button Based on Where Expected\": 3, \"Often Intend to Click Certain Button and Get Unexpected Results\": \"No\", \"Rank Use on Instagram in Terms of Frequency - Explore Page\": 1, \"Rank Use on Instagram in Terms of Frequency - Feed\": 3, \"Rank Use on Instagram in Terms of Frequency - Marketplace\": 5, \"Rank Use on Instagram in Terms of Frequency - Messaging\": 4, \"Rank Use on Instagram in Terms of Frequency - Create content (post images/stories/reels)\": 6, \"Rank Use on Instagram in Terms of Frequency - Stories\": 2, \"Intentionally Used the Instagram Create Button Before\": \"No\", \"Intentionally Used the Instagram Marketplace Button Before\": \"No\", \"Rank Likelihood of Purchasing an Item from Instagram marketplace\": 1, \"Hours Spent on Instagram Daily\": \"1-3 hrs\", \"Age\": 19, \"Gender\": \"Male\"}, {\"Experimenter\": \"Team\", \"PID\": 24, \"Interface\": 1, \"Rank Placement of Create and Marketplace Button Based on Where Expected\": 3, \"Often Intend to Click Certain Button and Get Unexpected Results\": \"Yes\", \"Rank Use on Instagram in Terms of Frequency - Explore Page\": 2, \"Rank Use on Instagram in Terms of Frequency - Feed\": 1, \"Rank Use on Instagram in Terms of Frequency - Marketplace\": 6, \"Rank Use on Instagram in Terms of Frequency - Messaging\": 5, \"Rank Use on Instagram in Terms of Frequency - Create content (post images/stories/reels)\": 3, \"Rank Use on Instagram in Terms of Frequency - Stories\": 4, \"Intentionally Used the Instagram Create Button Before\": \"Yes\", \"Intentionally Used the Instagram Marketplace Button Before\": \"No\", \"Rank Likelihood of Purchasing an Item from Instagram marketplace\": 0, \"Hours Spent on Instagram Daily\": \"0-1 hr\", \"Age\": 22, \"Gender\": \"Male\"}, {\"Experimenter\": \"Team\", \"PID\": 25, \"Interface\": 1, \"Rank Placement of Create and Marketplace Button Based on Where Expected\": 3, \"Often Intend to Click Certain Button and Get Unexpected Results\": \"No\", \"Rank Use on Instagram in Terms of Frequency - Explore Page\": 1, \"Rank Use on Instagram in Terms of Frequency - Feed\": 2, \"Rank Use on Instagram in Terms of Frequency - Marketplace\": 4, \"Rank Use on Instagram in Terms of Frequency - Messaging\": 5, \"Rank Use on Instagram in Terms of Frequency - Create content (post images/stories/reels)\": 6, \"Rank Use on Instagram in Terms of Frequency - Stories\": 3, \"Intentionally Used the Instagram Create Button Before\": \"No\", \"Intentionally Used the Instagram Marketplace Button Before\": \"No\", \"Rank Likelihood of Purchasing an Item from Instagram marketplace\": 0, \"Hours Spent on Instagram Daily\": \"0-1 hr\", \"Age\": 21, \"Gender\": \"Male\"}, {\"Experimenter\": \"Team\", \"PID\": 26, \"Interface\": 1, \"Rank Placement of Create and Marketplace Button Based on Where Expected\": 2, \"Often Intend to Click Certain Button and Get Unexpected Results\": \"Yes\", \"Rank Use on Instagram in Terms of Frequency - Explore Page\": 5, \"Rank Use on Instagram in Terms of Frequency - Feed\": 1, \"Rank Use on Instagram in Terms of Frequency - Marketplace\": 6, \"Rank Use on Instagram in Terms of Frequency - Messaging\": 2, \"Rank Use on Instagram in Terms of Frequency - Create content (post images/stories/reels)\": 3, \"Rank Use on Instagram in Terms of Frequency - Stories\": 4, \"Intentionally Used the Instagram Create Button Before\": \"Yes\", \"Intentionally Used the Instagram Marketplace Button Before\": \"No\", \"Rank Likelihood of Purchasing an Item from Instagram marketplace\": 0, \"Hours Spent on Instagram Daily\": \"0-1 hr\", \"Age\": 19, \"Gender\": \"Male\"}, {\"Experimenter\": \"Team\", \"PID\": 27, \"Interface\": 1, \"Rank Placement of Create and Marketplace Button Based on Where Expected\": 4, \"Often Intend to Click Certain Button and Get Unexpected Results\": \"No\", \"Rank Use on Instagram in Terms of Frequency - Explore Page\": 4, \"Rank Use on Instagram in Terms of Frequency - Feed\": 1, \"Rank Use on Instagram in Terms of Frequency - Marketplace\": 5, \"Rank Use on Instagram in Terms of Frequency - Messaging\": 2, \"Rank Use on Instagram in Terms of Frequency - Create content (post images/stories/reels)\": 6, \"Rank Use on Instagram in Terms of Frequency - Stories\": 3, \"Intentionally Used the Instagram Create Button Before\": \"No\", \"Intentionally Used the Instagram Marketplace Button Before\": \"No\", \"Rank Likelihood of Purchasing an Item from Instagram marketplace\": 1, \"Hours Spent on Instagram Daily\": \"0-1 hr\", \"Age\": 22, \"Gender\": \"Male\"}, {\"Experimenter\": \"Team\", \"PID\": 28, \"Interface\": 1, \"Rank Placement of Create and Marketplace Button Based on Where Expected\": 1, \"Often Intend to Click Certain Button and Get Unexpected Results\": \"No\", \"Rank Use on Instagram in Terms of Frequency - Explore Page\": 5, \"Rank Use on Instagram in Terms of Frequency - Feed\": 3, \"Rank Use on Instagram in Terms of Frequency - Marketplace\": 4, \"Rank Use on Instagram in Terms of Frequency - Messaging\": 1, \"Rank Use on Instagram in Terms of Frequency - Create content (post images/stories/reels)\": 6, \"Rank Use on Instagram in Terms of Frequency - Stories\": 2, \"Intentionally Used the Instagram Create Button Before\": \"Yes\", \"Intentionally Used the Instagram Marketplace Button Before\": \"Yes\", \"Rank Likelihood of Purchasing an Item from Instagram marketplace\": 0, \"Hours Spent on Instagram Daily\": \"0-1 hr\", \"Age\": 21, \"Gender\": \"Male\"}, {\"Experimenter\": \"Vrushali\", \"PID\": 29, \"Interface\": 1, \"Rank Placement of Create and Marketplace Button Based on Where Expected\": 3, \"Often Intend to Click Certain Button and Get Unexpected Results\": \"No\", \"Rank Use on Instagram in Terms of Frequency - Explore Page\": 3, \"Rank Use on Instagram in Terms of Frequency - Feed\": 2, \"Rank Use on Instagram in Terms of Frequency - Marketplace\": 6, \"Rank Use on Instagram in Terms of Frequency - Messaging\": 4, \"Rank Use on Instagram in Terms of Frequency - Create content (post images/stories/reels)\": 5, \"Rank Use on Instagram in Terms of Frequency - Stories\": 1, \"Intentionally Used the Instagram Create Button Before\": \"Yes\", \"Intentionally Used the Instagram Marketplace Button Before\": \"No\", \"Rank Likelihood of Purchasing an Item from Instagram marketplace\": 0, \"Hours Spent on Instagram Daily\": \"0-1 hr\", \"Age\": 22, \"Gender\": \"Male\"}, {\"Experimenter\": \"Vrushali\", \"PID\": 30, \"Interface\": 1, \"Rank Placement of Create and Marketplace Button Based on Where Expected\": 4, \"Often Intend to Click Certain Button and Get Unexpected Results\": \"No\", \"Rank Use on Instagram in Terms of Frequency - Explore Page\": 3, \"Rank Use on Instagram in Terms of Frequency - Feed\": 2, \"Rank Use on Instagram in Terms of Frequency - Marketplace\": 6, \"Rank Use on Instagram in Terms of Frequency - Messaging\": 4, \"Rank Use on Instagram in Terms of Frequency - Create content (post images/stories/reels)\": 5, \"Rank Use on Instagram in Terms of Frequency - Stories\": 1, \"Intentionally Used the Instagram Create Button Before\": \"Yes\", \"Intentionally Used the Instagram Marketplace Button Before\": \"No\", \"Rank Likelihood of Purchasing an Item from Instagram marketplace\": 0, \"Hours Spent on Instagram Daily\": \"0-1 hr\", \"Age\": 20, \"Gender\": \"Male\"}, {\"Experimenter\": \"Vrushali\", \"PID\": 31, \"Interface\": 1, \"Rank Placement of Create and Marketplace Button Based on Where Expected\": 1, \"Often Intend to Click Certain Button and Get Unexpected Results\": \"Yes\", \"Rank Use on Instagram in Terms of Frequency - Explore Page\": 2, \"Rank Use on Instagram in Terms of Frequency - Feed\": 1, \"Rank Use on Instagram in Terms of Frequency - Marketplace\": 6, \"Rank Use on Instagram in Terms of Frequency - Messaging\": 4, \"Rank Use on Instagram in Terms of Frequency - Create content (post images/stories/reels)\": 5, \"Rank Use on Instagram in Terms of Frequency - Stories\": 3, \"Intentionally Used the Instagram Create Button Before\": \"Yes\", \"Intentionally Used the Instagram Marketplace Button Before\": \"No\", \"Rank Likelihood of Purchasing an Item from Instagram marketplace\": 0, \"Hours Spent on Instagram Daily\": \"0-1 hr\", \"Age\": 20, \"Gender\": \"Female\"}, {\"Experimenter\": \"Grace\", \"PID\": 32, \"Interface\": 1, \"Rank Placement of Create and Marketplace Button Based on Where Expected\": 3, \"Often Intend to Click Certain Button and Get Unexpected Results\": \"Yes\", \"Rank Use on Instagram in Terms of Frequency - Explore Page\": 2, \"Rank Use on Instagram in Terms of Frequency - Feed\": 1, \"Rank Use on Instagram in Terms of Frequency - Marketplace\": 6, \"Rank Use on Instagram in Terms of Frequency - Messaging\": 3, \"Rank Use on Instagram in Terms of Frequency - Create content (post images/stories/reels)\": 5, \"Rank Use on Instagram in Terms of Frequency - Stories\": 4, \"Intentionally Used the Instagram Create Button Before\": \"No\", \"Intentionally Used the Instagram Marketplace Button Before\": \"No\", \"Rank Likelihood of Purchasing an Item from Instagram marketplace\": 0, \"Hours Spent on Instagram Daily\": \"0-1 hr\", \"Age\": 20, \"Gender\": \"Male\"}, {\"Experimenter\": \"Grace\", \"PID\": 33, \"Interface\": 1, \"Rank Placement of Create and Marketplace Button Based on Where Expected\": 3, \"Often Intend to Click Certain Button and Get Unexpected Results\": \"No\", \"Rank Use on Instagram in Terms of Frequency - Explore Page\": 1, \"Rank Use on Instagram in Terms of Frequency - Feed\": 2, \"Rank Use on Instagram in Terms of Frequency - Marketplace\": 6, \"Rank Use on Instagram in Terms of Frequency - Messaging\": 4, \"Rank Use on Instagram in Terms of Frequency - Create content (post images/stories/reels)\": 5, \"Rank Use on Instagram in Terms of Frequency - Stories\": 3, \"Intentionally Used the Instagram Create Button Before\": \"No\", \"Intentionally Used the Instagram Marketplace Button Before\": \"No\", \"Rank Likelihood of Purchasing an Item from Instagram marketplace\": 0, \"Hours Spent on Instagram Daily\": \"0-1 hr\", \"Age\": 22, \"Gender\": \"Female\"}, {\"Experimenter\": \"Grace\", \"PID\": 34, \"Interface\": 1, \"Rank Placement of Create and Marketplace Button Based on Where Expected\": 3, \"Often Intend to Click Certain Button and Get Unexpected Results\": \"Yes\", \"Rank Use on Instagram in Terms of Frequency - Explore Page\": 1, \"Rank Use on Instagram in Terms of Frequency - Feed\": 2, \"Rank Use on Instagram in Terms of Frequency - Marketplace\": 6, \"Rank Use on Instagram in Terms of Frequency - Messaging\": 3, \"Rank Use on Instagram in Terms of Frequency - Create content (post images/stories/reels)\": 5, \"Rank Use on Instagram in Terms of Frequency - Stories\": 4, \"Intentionally Used the Instagram Create Button Before\": \"Yes\", \"Intentionally Used the Instagram Marketplace Button Before\": \"No\", \"Rank Likelihood of Purchasing an Item from Instagram marketplace\": 0, \"Hours Spent on Instagram Daily\": \"1-3 hrs\", \"Age\": 20, \"Gender\": \"Female\"}, {\"Experimenter\": \"Alice\", \"PID\": 35, \"Interface\": 1, \"Rank Placement of Create and Marketplace Button Based on Where Expected\": 2, \"Often Intend to Click Certain Button and Get Unexpected Results\": \"No\", \"Rank Use on Instagram in Terms of Frequency - Explore Page\": 3, \"Rank Use on Instagram in Terms of Frequency - Feed\": 2, \"Rank Use on Instagram in Terms of Frequency - Marketplace\": 6, \"Rank Use on Instagram in Terms of Frequency - Messaging\": 1, \"Rank Use on Instagram in Terms of Frequency - Create content (post images/stories/reels)\": 4, \"Rank Use on Instagram in Terms of Frequency - Stories\": 5, \"Intentionally Used the Instagram Create Button Before\": \"Yes\", \"Intentionally Used the Instagram Marketplace Button Before\": \"No\", \"Rank Likelihood of Purchasing an Item from Instagram marketplace\": 0, \"Hours Spent on Instagram Daily\": \"3-5 hrs\", \"Age\": 19, \"Gender\": \"Female\"}, {\"Experimenter\": \"Alice\", \"PID\": 36, \"Interface\": 1, \"Rank Placement of Create and Marketplace Button Based on Where Expected\": 2, \"Often Intend to Click Certain Button and Get Unexpected Results\": \"Yes\", \"Rank Use on Instagram in Terms of Frequency - Explore Page\": 1, \"Rank Use on Instagram in Terms of Frequency - Feed\": 2, \"Rank Use on Instagram in Terms of Frequency - Marketplace\": 6, \"Rank Use on Instagram in Terms of Frequency - Messaging\": 3, \"Rank Use on Instagram in Terms of Frequency - Create content (post images/stories/reels)\": 5, \"Rank Use on Instagram in Terms of Frequency - Stories\": 4, \"Intentionally Used the Instagram Create Button Before\": \"Yes\", \"Intentionally Used the Instagram Marketplace Button Before\": \"No\", \"Rank Likelihood of Purchasing an Item from Instagram marketplace\": 0, \"Hours Spent on Instagram Daily\": \"0-1 hr\", \"Age\": 19, \"Gender\": \"Female\"}, {\"Experimenter\": \"Alice\", \"PID\": 37, \"Interface\": 1, \"Rank Placement of Create and Marketplace Button Based on Where Expected\": 3, \"Often Intend to Click Certain Button and Get Unexpected Results\": \"No\", \"Rank Use on Instagram in Terms of Frequency - Explore Page\": 5, \"Rank Use on Instagram in Terms of Frequency - Feed\": 4, \"Rank Use on Instagram in Terms of Frequency - Marketplace\": 6, \"Rank Use on Instagram in Terms of Frequency - Messaging\": 3, \"Rank Use on Instagram in Terms of Frequency - Create content (post images/stories/reels)\": 1, \"Rank Use on Instagram in Terms of Frequency - Stories\": 2, \"Intentionally Used the Instagram Create Button Before\": \"Yes\", \"Intentionally Used the Instagram Marketplace Button Before\": \"Yes\", \"Rank Likelihood of Purchasing an Item from Instagram marketplace\": 1, \"Hours Spent on Instagram Daily\": \"1-3 hrs\", \"Age\": 21, \"Gender\": \"Female\"}, {\"Experimenter\": \"Tania\", \"PID\": 38, \"Interface\": 1, \"Rank Placement of Create and Marketplace Button Based on Where Expected\": 1, \"Often Intend to Click Certain Button and Get Unexpected Results\": \"No\", \"Rank Use on Instagram in Terms of Frequency - Explore Page\": 4, \"Rank Use on Instagram in Terms of Frequency - Feed\": 5, \"Rank Use on Instagram in Terms of Frequency - Marketplace\": 6, \"Rank Use on Instagram in Terms of Frequency - Messaging\": 1, \"Rank Use on Instagram in Terms of Frequency - Create content (post images/stories/reels)\": 3, \"Rank Use on Instagram in Terms of Frequency - Stories\": 2, \"Intentionally Used the Instagram Create Button Before\": \"Yes\", \"Intentionally Used the Instagram Marketplace Button Before\": \"No\", \"Rank Likelihood of Purchasing an Item from Instagram marketplace\": 0, \"Hours Spent on Instagram Daily\": \"1-3 hrs\", \"Age\": 20, \"Gender\": \"Male\"}, {\"Experimenter\": \"Tania\", \"PID\": 39, \"Interface\": 1, \"Rank Placement of Create and Marketplace Button Based on Where Expected\": 3, \"Often Intend to Click Certain Button and Get Unexpected Results\": \"Yes\", \"Rank Use on Instagram in Terms of Frequency - Explore Page\": 1, \"Rank Use on Instagram in Terms of Frequency - Feed\": 5, \"Rank Use on Instagram in Terms of Frequency - Marketplace\": 2, \"Rank Use on Instagram in Terms of Frequency - Messaging\": 3, \"Rank Use on Instagram in Terms of Frequency - Create content (post images/stories/reels)\": 4, \"Rank Use on Instagram in Terms of Frequency - Stories\": 6, \"Intentionally Used the Instagram Create Button Before\": \"Yes\", \"Intentionally Used the Instagram Marketplace Button Before\": \"Yes\", \"Rank Likelihood of Purchasing an Item from Instagram marketplace\": 2, \"Hours Spent on Instagram Daily\": \"1-3 hrs\", \"Age\": 19, \"Gender\": \"Non-binary / third gender\"}, {\"Experimenter\": \"Tania\", \"PID\": 40, \"Interface\": 1, \"Rank Placement of Create and Marketplace Button Based on Where Expected\": 3, \"Often Intend to Click Certain Button and Get Unexpected Results\": \"No\", \"Rank Use on Instagram in Terms of Frequency - Explore Page\": 2, \"Rank Use on Instagram in Terms of Frequency - Feed\": 4, \"Rank Use on Instagram in Terms of Frequency - Marketplace\": 6, \"Rank Use on Instagram in Terms of Frequency - Messaging\": 3, \"Rank Use on Instagram in Terms of Frequency - Create content (post images/stories/reels)\": 5, \"Rank Use on Instagram in Terms of Frequency - Stories\": 1, \"Intentionally Used the Instagram Create Button Before\": \"Yes\", \"Intentionally Used the Instagram Marketplace Button Before\": \"No\", \"Rank Likelihood of Purchasing an Item from Instagram marketplace\": 0, \"Hours Spent on Instagram Daily\": \"0-1 hr\", \"Age\": 21, \"Gender\": \"Female\"}]}}, {\"mode\": \"vega-lite\"});\n",
       "</script>"
      ],
      "text/plain": [
       "alt.Chart(...)"
      ]
     },
     "execution_count": 9,
     "metadata": {},
     "output_type": "execute_result"
    }
   ],
   "source": [
    "alt.Chart(data, title=\"Ranked Placement of Create and Marketplace Button by Interface\").mark_bar().encode(\n",
    "    x=alt.X(\"Rank Placement of Create and Marketplace Button Based on Where Expected\", bin=True, title=\"Ranked Placement Based on Where Expected\"),\n",
    "    y=alt.Y(\"count()\", title=\"Count of Each Ranking\"),\n",
    "    color='Interface:N'\n",
    ")"
   ]
  },
  {
   "cell_type": "markdown",
   "id": "a23ab873",
   "metadata": {},
   "source": [
    "Upon an examination of the dependent variable, it was found that the assumption of normality was violated (p < 0.05) using the Shapiro-Wilk test. Therefore,  since we had a between-subjects design with two conditions, a Mann-Whitney test was conducted to compare participant ranking of the placement of the Create and Marketplace buttons on Instagram based on expected locations for Interface 1 and 2. The median placement ranking for Interface 1 (Median = 3.000, Mean = 2.700, SE = 0.207) is the same as that of Interface 2 (Median = 3.000, Mean = 2.550, SE = 0.211) and while the mean placement ranking for Interface 1 is slightly greater than that of Interface 2, the effect size is small. The results of the Mann-Whitney test (W=221, p = 0.553) indicate there is not a statistically significant difference between the rankings of the two interfaces (p > 0.05), meaning we fail to reject the null hypothesis and swapping the location of the two buttons does not have a negative impact on user experience. "
   ]
  }
 ],
 "metadata": {
  "kernelspec": {
   "display_name": "Python 3 (ipykernel)",
   "language": "python",
   "name": "python3"
  },
  "language_info": {
   "codemirror_mode": {
    "name": "ipython",
    "version": 3
   },
   "file_extension": ".py",
   "mimetype": "text/x-python",
   "name": "python",
   "nbconvert_exporter": "python",
   "pygments_lexer": "ipython3",
   "version": "3.9.6"
  }
 },
 "nbformat": 4,
 "nbformat_minor": 5
}
